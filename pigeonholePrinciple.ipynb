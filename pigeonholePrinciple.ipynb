{
  "nbformat": 4,
  "nbformat_minor": 0,
  "metadata": {
    "colab": {
      "provenance": []
    },
    "kernelspec": {
      "name": "python3",
      "display_name": "Python 3"
    },
    "language_info": {
      "name": "python"
    }
  },
  "cells": [
    {
      "cell_type": "markdown",
      "source": [
        "Basketbolda 5 pozisyon vardır bunlar = Point guard , Shooting guard, Small forward, Power forward, Center pozisyonlarıdır. en az 2 oyuncunun aynı pozisyona sahip olması için gerekli hesaplama için :\n",
        "\n",
        "*   Oyuncu sayısı = (Güvercin) = n\n",
        "*   Posiyon Sayısı = (Yuva) = m\n",
        "*   n>m olmalıdır\n",
        "\n",
        "\n",
        "\n",
        "\n"
      ],
      "metadata": {
        "id": "WfWz4viop3a0"
      }
    },
    {
      "cell_type": "code",
      "execution_count": 24,
      "metadata": {
        "colab": {
          "base_uri": "https://localhost:8080/"
        },
        "id": "xiRGwS9spxcm",
        "outputId": "b33f5163-8358-47c8-913c-8e729c3abf3a"
      },
      "outputs": [
        {
          "output_type": "stream",
          "name": "stdout",
          "text": [
            "2 aynı pozisyona sahip oyunculu versiyonunu:\n",
            "\n",
            "\n",
            "Players:\n",
            "Draft: Center\n",
            "Draft: Point guard\n",
            "Draft: Center\n",
            "Draft: Point guard\n",
            "Draft: Point guard\n",
            "Draft: Center\n",
            "\n",
            "\n",
            "2 oyuncunun aynı pozisyonda olması için gereken minimum oyuncu sayısı: 6\n",
            "\n",
            "\n",
            "*-------------------*-------------------*\n",
            "\n",
            "\n",
            "3 aynı pozisyona sahip oyunculu versiyonunu:\n",
            "\n",
            "\n",
            "Players:\n",
            "Draft: Small forward\n",
            "Draft: Small forward\n",
            "Draft: Center\n",
            "Draft: Point guard\n",
            "Draft: Center\n",
            "Draft: Power forward\n",
            "Draft: Point guard\n",
            "Draft: Point guard\n",
            "Draft: Shooting guard\n",
            "Draft: Power forward\n",
            "Draft: Center\n",
            "3 oyuncunun aynı pozisyonda olması için gereken minimum oyuncu sayısı: 11\n"
          ]
        }
      ],
      "source": [
        "import random\n",
        "\n",
        "def minimumPlayerCal(positions, samePositions):\n",
        "    return positions * (samePositions - 1) + 1\n",
        "\n",
        "pos = ['Point guard', 'Shooting guard', 'Small forward', 'Power forward', 'Center']\n",
        "\n",
        "minPlayer = minimumPlayerCal(len(pos), 2)\n",
        "print(\"2 aynı pozisyona sahip oyunculu versiyonunu:\")\n",
        "print(\"\\n\")\n",
        "\n",
        "print(\"Players:\")\n",
        "for i in range(minPlayer):\n",
        "    print(f\"Draft: {random.choice(pos)}\")\n",
        "\n",
        "print(\"\\n\")\n",
        "\n",
        "print(\"2 oyuncunun aynı pozisyonda olması için gereken minimum oyuncu sayısı:\", minPlayer)\n",
        "\n",
        "\n",
        "\n",
        "print(\"\\n\")\n",
        "print(\"*-------------------*-------------------*\")\n",
        "print(\"\\n\")\n",
        "\n",
        "print(\"3 aynı pozisyona sahip oyunculu versiyonunu:\")\n",
        "print(\"\\n\")\n",
        "\n",
        "minPlayer = minimumPlayerCal(len(pos), 3)\n",
        "\n",
        "print(\"Players:\")\n",
        "for i in range(minPlayer):\n",
        "    print(f\"Draft: {random.choice(pos)}\")\n",
        "\n",
        "print(\"3 oyuncunun aynı pozisyonda olması için gereken minimum oyuncu sayısı:\", minPlayer)\n"
      ]
    }
  ]
}